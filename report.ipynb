{
 "metadata": {
  "language_info": {
   "codemirror_mode": {
    "name": "ipython",
    "version": 3
   },
   "file_extension": ".py",
   "mimetype": "text/x-python",
   "name": "python",
   "nbconvert_exporter": "python",
   "pygments_lexer": "ipython3",
   "version": "2.7.17-final"
  },
  "orig_nbformat": 2,
  "kernelspec": {
   "name": "python3",
   "display_name": "Python 2.7.17 64-bit",
   "metadata": {
    "interpreter": {
     "hash": "767d51c1340bd893661ea55ea3124f6de3c7a262a8b4abca0554b478b1e2ff90"
    }
   }
  }
 },
 "nbformat": 4,
 "nbformat_minor": 2,
 "cells": [
  {
   "source": [
    "# GENETIC ALGORITHMS"
   ],
   "cell_type": "markdown",
   "metadata": {}
  },
  {
   "source": [
    "Genetic algorithm is often used in parameter selection and obtaining optimal solutions. We have been given\n",
    "coefficients of features(a vector of size 11) corresponding to an overfit model and our task is to apply genetic\n",
    "algorithm in order to reduce the overfitting i.e. generalize the model so that the model performs better on\n",
    "unseen data."
   ],
   "cell_type": "markdown",
   "metadata": {}
  },
  {
   "source": [
    "# SUMMARY OF ALGORITHM"
   ],
   "cell_type": "markdown",
   "metadata": {}
  },
  {
   "source": [
    "The genetic algorithm is a search heuristic that is inspired by Charles Darwin’s theory of natural evolution. This algorithm reflects the process of natural selection where the fittest individuals are selected for reproduction in order to produce offspring of the next generation.\n",
    "\n",
    "Five phases are considered in a genetic algorithm.\n",
    "- Initial population\n",
    "- Fitness function\n",
    "- Selection\n",
    "- Crossover\n",
    "- Mutation\n"
   ],
   "cell_type": "markdown",
   "metadata": {}
  },
  {
   "source": [
    "#### STEP WISE IMPLEMENTATION : "
   ],
   "cell_type": "markdown",
   "metadata": {}
  },
  {
   "source": [
    "### GENERATING INITIAL POPULATION\n",
    "\n",
    "To start, we need few vectors of size 11 , we took **pop_size** no. of vectors.Now we have **pop_size** individuals each with 11 genes.We initialised them as **init_pop** to values zero for all genes.Then for each individual we randomly change few genes to value of gene at the position in the provided vector multiplied by some factor (rng).\n",
    "\n"
   ],
   "cell_type": "markdown",
   "metadata": {}
  },
  {
   "source": [
    "\n",
    "    for i in range(pop_size):\n",
    "        if generations==0:\n",
    "            for j in range (chromosome_size):\n",
    "                tempp = random.randint(1,10)\n",
    "                if tempp < 8:\n",
    "                    rng = np.random.uniform(low = 0.3, high = 0.80)\n",
    "                    \n",
    "                    init_pop[i][j] = rng* temp_arr[i][j]\n"
   ],
   "cell_type": "code",
   "metadata": {},
   "execution_count": null,
   "outputs": []
  },
  {
   "source": [
    "### GETTING ERRORS AND FITNESS AND PROBABILITIES\n",
    "To get train and validation errors we sent each individual to server and got back the errors.We calculated fitness from it and stored in array for the whole population.From fitness function we have calculated probabilities for each individual.We stored this fitness in fitness1"
   ],
   "cell_type": "markdown",
   "metadata": {}
  },
  {
   "source": [
    "def get_fitness(arr, ind):\n",
    "        #getting errors on the data\n",
    "    fitness=[0 for i in range(chromosome_size)]\n",
    "    j=0    \n",
    "    for chromoso in arr:\n",
    "        trainerr,validerr=get_errors(key,list(chromoso))\n",
    "        print(testerr,validerr)\n",
    "        fitness[j]=1/(train_factor*trainerr+validerr)\n",
    "        j+=1\n",
    "    \n",
    "    if ind==1:\n",
    "        for m in range(chromosome_size):\n",
    "            fitness1[m]=fitness[m]\n",
    "            #print(fitness) \n",
    "    else:\n",
    "        for m in range(chromosome_size):\n",
    "            fitness2[m]=fitness[m]   \n",
    "\n",
    "    #calculate probabilities\n",
    "    sum_fit=np.sum(fitness)\n",
    "    for k in range(pop_size):\n",
    "        probability[k]=fitness[k]/sum_fit "
   ],
   "cell_type": "code",
   "metadata": {},
   "execution_count": null,
   "outputs": []
  },
  {
   "source": [
    "### SELECTION AND CROSSOVER\n",
    "Based on the probabilities calculated we have performed crossover **pop_size** no .of times.We have performed crossover at a random point.After crossover returned that child to new population.\n"
   ],
   "cell_type": "markdown",
   "metadata": {}
  },
  {
   "source": [
    "def selection(arr:np.ndarray):\n",
    "    for i in range(pop_size):\n",
    "        parent1ind=np.random.choice(pop_size,p=probability)\n",
    "        parent1=arr[parent1ind]\n",
    "        parent2ind=np.random.choice(pop_size,p=probability)\n",
    "        parent2=arr[parent2ind]\n",
    "\n",
    "        #printing parents after selection :\n",
    "        print(\"printing parents after selection :\")\n",
    "        print(\"parent1:\")\n",
    "        print(parent1)\n",
    "        print(\"parent2:\")\n",
    "        print(parent2)\n",
    "        new_pop[i]=crossover(parent1,parent2)\n",
    "\n",
    "def crossover(parent1,parent2):\n",
    "    mid=random.randint(1,chromosome_size-1)\n",
    "    child=np.ones(chromosome_size)\n",
    "    for i in range(0,mid+1):\n",
    "        child[i]=parent1[i]\n",
    "    for j in range(mid,chromosome_size):\n",
    "        child[j]=parent2[j]\n",
    "    print(child)\n",
    "    return child        "
   ],
   "cell_type": "code",
   "metadata": {},
   "execution_count": null,
   "outputs": []
  },
  {
   "source": [
    "### GENERATING NEW POPULATION AND ITS FITNESS\n",
    "\n",
    "From the above generated population we have mutated we genes and computed fitness for new population but requesting errors from server, using same fitness function as above.We stored this in fitness2."
   ],
   "cell_type": "markdown",
   "metadata": {}
  },
  {
   "source": [
    "for i in range(pop_size): \n",
    "        mutate(new_pop[i])\n",
    "\n",
    "    #printing population after mutation\n",
    "    print(\"population after mutation :\")\n",
    "    for lol in new_pop:\n",
    "        print(lol)\n",
    "\n",
    "    #print(new_pop)\n",
    "    get_fitness(new_pop,2)"
   ],
   "cell_type": "code",
   "metadata": {},
   "execution_count": null,
   "outputs": []
  },
  {
   "source": [
    "### GETTING NEXT GENERATION\n",
    "\n",
    "We have merged our inital population with this new population and sorted in descending order based on fitness functions and picked top **pop_size** elements and made them as new_initial population.\n"
   ],
   "cell_type": "markdown",
   "metadata": {}
  },
  {
   "source": [
    "   finaltup=[]\n",
    "    for i in range(pop_size):\n",
    "        finaltup.append((fitness1[i],init_pop[i]))\n",
    "    \n",
    "    for i in range(pop_size):\n",
    "        finaltup.append((fitness2[i],new_pop[i]))\n",
    "    print(\"final tuple:\")\n",
    "    print(finaltup)\n",
    "\n",
    "    finaltup.sort(reverse=True , key=lambda x:x[0])\n",
    "\n",
    "    print(\"final sorted tuple\")\n",
    "    print(finaltup)\n",
    "    print(\"FFS , MIXED FITNESS FUNCTIONS IN ORDER\")\n",
    "    for i in range(pop_size):\n",
    "        new_init_pop[i]=finaltup[i][1]"
   ],
   "cell_type": "code",
   "metadata": {},
   "execution_count": null,
   "outputs": []
  },
  {
   "source": [
    "### LOOP IT\n",
    "Then we made new_init pop as initial population in the next run, therefore algorithm runs over specified generations."
   ],
   "cell_type": "markdown",
   "metadata": {}
  },
  {
   "source": [
    "#add code smh"
   ],
   "cell_type": "code",
   "metadata": {},
   "execution_count": null,
   "outputs": []
  },
  {
   "cell_type": "code",
   "execution_count": null,
   "metadata": {},
   "outputs": [],
   "source": [
    "### snippets"
   ]
  },
  {
   "source": [
    "## FITNESS FUNCTION\n",
    "\n",
    "Fitness function determines how fit an individual is. Lower the error more fit the individual is.Hence fitness is inversely proportional to MSE.We defined fitness as:\n",
    "\n",
    "fitness= 1/(train_factor*trainerror + validationerror)\n",
    "\n",
    "where trainerror and validationerror are mse of train and validation datasets for given vector. **train_factor** is used for controlling the effect(weightage) of trainerr and validationerr on fitness function.\n",
    "\n",
    "The probability that an individual will be selected for reproduction is based on its fitness score.\n",
    "\n",
    "#### PROBABILITY \n",
    "Since the probability of a individual getting picked up is directly proportional to fitness, we have calculated probabilities for each individual.Probability of the $i_{th}$ individual is defined as follows:\n",
    "\n",
    "probability(i) = fitness(i)/total_fitness\n",
    "\n",
    "where fitness(i) is fitness of the $i_{th}$ individual and total fitness is sum of all fitness of all individuals in the population.\n",
    "\n",
    "\n",
    "\n",
    "\n",
    "\n"
   ],
   "cell_type": "markdown",
   "metadata": {}
  },
  {
   "cell_type": "code",
   "execution_count": null,
   "metadata": {},
   "outputs": [],
   "source": [
    "def get_fitness(arr, ind):\n",
    "        #getting errors on the data\n",
    "    fitness=[0 for i in range(chromosome_size)]\n",
    "    j=0    \n",
    "    for chromoso in arr:\n",
    "        testerr,validerr=get_errors(key,list(chromoso))\n",
    "        print(testerr,validerr)\n",
    "        fitness[j]=1/(train_factor*testerr+validerr)\n",
    "        j+=1\n",
    "    \n",
    "    if ind==1:\n",
    "        for m in range(chromosome_size):\n",
    "            fitness1[m]=fitness[m]\n",
    "            #print(fitness) \n",
    "    else:\n",
    "        for m in range(chromosome_size):\n",
    "            fitness2[m]=fitness[m]   \n",
    "\n",
    "    #calculate probabilities\n",
    "    sum_fit=np.sum(fitness)\n",
    "    for k in range(pop_size):\n",
    "        probability[k]=fitness[k]/sum_fit "
   ]
  },
  {
   "source": [
    "## SELECTION FUNCTION\n",
    "The idea of selection phase is to select the fittest individuals and let them pass their genes to the next generation.\n",
    "Two pairs of individuals (parents) are selected based on their fitness scores. Individuals with high fitness have more chance to be selected for reproduction.\n",
    "\n",
    "From the above calculated probabilites we chose two parents using **np.random.choice** and we have done crossover between them, and added child to new population (initially new population is empty).We have repeated this process **pop_size** no. of times to generate complete new population of same size."
   ],
   "cell_type": "markdown",
   "metadata": {}
  },
  {
   "cell_type": "code",
   "execution_count": null,
   "metadata": {},
   "outputs": [],
   "source": [
    "def selection(arr:np.ndarray):\n",
    "    for i in range(pop_size):\n",
    "        parent1ind=np.random.choice(pop_size,p=probability)\n",
    "        parent1=arr[parent1ind]\n",
    "        parent2ind=np.random.choice(pop_size,p=probability)\n",
    "        parent2=arr[parent2ind]\n",
    "\n",
    "        #printing parents after selection :\n",
    "        print(\"printing parents after selection :\")\n",
    "        print(\"parent1:\")\n",
    "        print(parent1)\n",
    "        print(\"parent2:\")\n",
    "        print(parent2)\n",
    "\n",
    "        new_pop[i]=crossover(parent1,parent2)"
   ]
  },
  {
   "source": [
    "## CROSSOVER FUNCTION\n",
    "\n",
    "We chose a point randomly between 1 and 10 (since length is 11). All the genes in the child before that point are from parent1 and after that are from parent2. Hence new child is generated from crossover at that point(mid).\n",
    "\n"
   ],
   "cell_type": "markdown",
   "metadata": {}
  },
  {
   "cell_type": "code",
   "execution_count": null,
   "metadata": {},
   "outputs": [],
   "source": [
    "def crossover(parent1,parent2):\n",
    "    mid=random.randint(1,chromosome_size-1)\n",
    "    child=np.ones(chromosome_size)\n",
    "    for i in range(0,mid+1):\n",
    "        child[i]=parent1[i]\n",
    "    for j in range(mid,chromosome_size):\n",
    "        child[j]=parent2[j]\n",
    "    print(child)\n",
    "    return child"
   ]
  },
  {
   "source": [
    "## MUTATION FUNCTION\n",
    "Some of the genes in the child can be subjected to a mutation with a low random probability. This implies that some of the bits in the bit string can be flipped. \n",
    "\n",
    "  We have defined the probability as mutation_probability.And we changed the value as follows.\n",
    "\n",
    "  1. We took a variable whose value is randomly choosen from \\[ -abs(actualvalue)/5000, abs(actualvalue)/5000 ], abs stands for absolute.\n",
    "  2.We added that variable to actualvalue if a randomly generated value between (0,1) called k is less than mutation probability.\n",
    "  \n",
    "  We put conditions to ensure that genes value doesn't go out of bounds.(It was given that gene value must be from (-10,10) for case of simplicity)  \n"
   ],
   "cell_type": "markdown",
   "metadata": {}
  },
  {
   "cell_type": "code",
   "execution_count": null,
   "metadata": {},
   "outputs": [],
   "source": [
    "def mutate(chromosome:np.ndarray):\n",
    "    mutation_probability = 0.2\n",
    "    for i in range(chromosome_size):\n",
    "        l = abs(chromosome[i])/5000\n",
    "        r = -1*l\n",
    "        temp = random.uniform(r,l)\n",
    "        k = random.uniform(0,1)\n",
    "        if k <= mutation_probability:\n",
    "            chromosome[i]+=temp\n",
    "        if chromosome[i]>10:\n",
    "            chromosome[i]=10\n",
    "        elif chromosome[i]<-10:\n",
    "            chromosome[i]=-10"
   ]
  },
  {
   "source": [
    "## HYPERPARAMETERS"
   ],
   "cell_type": "markdown",
   "metadata": {}
  },
  {
   "source": [
    "* key = \n",
    "\n",
    "* pop_size = 10\n",
    "\n",
    "* choromosome_size = 11\n",
    "\n",
    "* train_factor = 0.5\n",
    "\n",
    "* mutation_probability = 0.2\n",
    "\n",
    "* mid = random.randint(1,chromosome_size-1)\n",
    "\n",
    "* total generations = \n",
    "\n",
    "* probab = 8"
   ],
   "cell_type": "markdown",
   "metadata": {}
  }
 ]
}